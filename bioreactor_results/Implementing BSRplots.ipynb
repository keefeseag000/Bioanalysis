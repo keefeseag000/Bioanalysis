{
 "cells": [
  {
   "cell_type": "markdown",
   "metadata": {},
   "source": [
    "# Implementing data vis functions"
   ]
  },
  {
   "cell_type": "code",
   "execution_count": 1,
   "metadata": {},
   "outputs": [
    {
     "name": "stdout",
     "output_type": "stream",
     "text": [
      "C:\\Users\\agilman\\Desktop\\Repositories\\Bioanalysis\\bioreactor_results\n"
     ]
    }
   ],
   "source": [
    "cd ~/Desktop/Repositories/Bioanalysis/bioreactor_results"
   ]
  },
  {
   "cell_type": "code",
   "execution_count": 2,
   "metadata": {},
   "outputs": [],
   "source": [
    "%run ./BSRplots.py"
   ]
  },
  {
   "cell_type": "code",
   "execution_count": 3,
   "metadata": {},
   "outputs": [
    {
     "name": "stdout",
     "output_type": "stream",
     "text": [
      "C:\\Users\\agilman\\Desktop\n"
     ]
    }
   ],
   "source": [
    "cd ~/Desktop"
   ]
  },
  {
   "cell_type": "code",
   "execution_count": 4,
   "metadata": {},
   "outputs": [],
   "source": [
    "df = pd.read_csv(\"compiled_data.txt\", delimiter = \"\\t\", encoding = 'unicode_escape')\n",
    "df = calc_qp(df)"
   ]
  },
  {
   "cell_type": "code",
   "execution_count": null,
   "metadata": {},
   "outputs": [],
   "source": [
    "fig1 = ['VCD', 'Viability', 'Titer']\n",
    "fig2 = ['VCD', 'Viability', 'Titer', \"Qp\"]\n",
    "fig3 = ['Gluc', 'Lac',\"Osm\",'PCO2']\n",
    "fig4 = ['Gln', 'Glu','pH','NH4+']\n",
    "fig5 = ['Na+', 'K+', 'Ca++']\n",
    "\n",
    "list_3pane = [fig1, fig5]\n",
    "list_4pane = [fig2, fig3, fig4]\n"
   ]
  },
  {
   "cell_type": "code",
   "execution_count": 6,
   "metadata": {},
   "outputs": [],
   "source": [
    "list_BSR = [\"R0011\", \"R0012\", \"R0013\", \"R0014\"]"
   ]
  },
  {
   "cell_type": "code",
   "execution_count": null,
   "metadata": {},
   "outputs": [],
   "source": [
    "for i in list_3pane:\n",
    "    plot_3by1(list_BSR, i, df, legend = lgnd)"
   ]
  },
  {
   "cell_type": "code",
   "execution_count": null,
   "metadata": {},
   "outputs": [],
   "source": [
    "for i in list_4pane:\n",
    "    plot_2by2(list_BSR, i, df, legend = lgnd)"
   ]
  },
  {
   "cell_type": "code",
   "execution_count": null,
   "metadata": {},
   "outputs": [],
   "source": [
    "clms_list = ['VCD', 'Viability', 'Titer', 'O2 Saturation', 'PCO2', 'Gluc', 'Lac', 'pH','NH4+','Gln', 'Glu',\n",
    "        'Na+', 'K+', 'Ca++', \"Osm\", 'Qp']\n",
    "\n",
    "for i in clms_list:\n",
    "    plot_single(list_BSR, i, df, legend = lgnd)"
   ]
  }
 ],
 "metadata": {
  "kernelspec": {
   "display_name": "Python [conda env:data_wrangling]",
   "language": "python",
   "name": "conda-env-data_wrangling-py"
  },
  "language_info": {
   "codemirror_mode": {
    "name": "ipython",
    "version": 3
   },
   "file_extension": ".py",
   "mimetype": "text/x-python",
   "name": "python",
   "nbconvert_exporter": "python",
   "pygments_lexer": "ipython3",
   "version": "3.6.5"
  }
 },
 "nbformat": 4,
 "nbformat_minor": 2
}
