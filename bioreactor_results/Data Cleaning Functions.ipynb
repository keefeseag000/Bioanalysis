{
 "cells": [
  {
   "cell_type": "markdown",
   "metadata": {},
   "source": [
    "# Developing Data Cleaning Functions"
   ]
  },
  {
   "cell_type": "code",
   "execution_count": null,
   "metadata": {},
   "outputs": [],
   "source": []
  },
  {
   "cell_type": "code",
   "execution_count": null,
   "metadata": {},
   "outputs": [],
   "source": []
  },
  {
   "cell_type": "code",
   "execution_count": null,
   "metadata": {},
   "outputs": [],
   "source": []
  },
  {
   "cell_type": "code",
   "execution_count": null,
   "metadata": {},
   "outputs": [],
   "source": []
  },
  {
   "cell_type": "code",
   "execution_count": null,
   "metadata": {},
   "outputs": [],
   "source": []
  },
  {
   "cell_type": "code",
   "execution_count": null,
   "metadata": {},
   "outputs": [],
   "source": []
  },
  {
   "cell_type": "markdown",
   "metadata": {},
   "source": [
    "# Trying to break down stack overflow answer\n",
    "https://stackoverflow.com/questions/58401694/merge-pandas-time-series-datasets-on-numerically-nearest-index-full-outer-join"
   ]
  },
  {
   "cell_type": "code",
   "execution_count": 53,
   "metadata": {},
   "outputs": [
    {
     "name": "stdout",
     "output_type": "stream",
     "text": [
      "   timestamp  max_val\n",
      "0      1.002       18\n",
      "1      2.000       22\n",
      "2      3.000       77\n",
      "3      5.000       23\n",
      "   timestamp  max_val\n",
      "0      1.000       33\n",
      "1      2.000       12\n",
      "2      3.001       87\n",
      "3      4.000       54\n",
      "   timestamp  max_val_x  max_val_y\n",
      "0      1.002         18         33\n",
      "1      2.000         22         12\n",
      "2      3.000         77         12\n",
      "3      5.000         23         54\n"
     ]
    }
   ],
   "source": [
    "df1 = pd.DataFrame([[1.002,18],[2,22],[3,77],[5,23]], columns=[\"timestamp\", \"max_val\"])\n",
    "df2 = pd.DataFrame([[1,33],[2,12],[3.001,87],[4,54]], columns=[\"timestamp\", \"max_val\"])\n",
    "\n",
    "merged_df = pd.merge_asof(df1,df2, on=\"timestamp\")\n",
    "\n",
    "print(df1)\n",
    "print(df2)\n",
    "print(merged_df)"
   ]
  },
  {
   "cell_type": "code",
   "execution_count": 54,
   "metadata": {},
   "outputs": [],
   "source": [
    "df2['Rank'] = df2['timestamp'].rank()"
   ]
  },
  {
   "cell_type": "code",
   "execution_count": 57,
   "metadata": {},
   "outputs": [],
   "source": [
    "new_df = (pd.merge_asof(df1, df2, \n",
    "              on='timestamp',\n",
    "              direction='nearest', \n",
    "              tolerance=0.01))"
   ]
  },
  {
   "cell_type": "code",
   "execution_count": 64,
   "metadata": {},
   "outputs": [
    {
     "name": "stdout",
     "output_type": "stream",
     "text": [
      "   timestamp  max_val\n",
      "0      1.002       18\n",
      "1      2.000       22\n",
      "2      3.000       77\n",
      "3      5.000       23\n",
      "   timestamp  max_val  Rank\n",
      "0      1.000       33   1.0\n",
      "1      2.000       12   2.0\n",
      "2      3.001       87   3.0\n",
      "3      4.000       54   4.0\n",
      "   timestamp  max_val_x  max_val_y  Rank\n",
      "0      1.002         18       33.0   1.0\n",
      "1      2.000         22       12.0   2.0\n",
      "2      3.000         77       87.0   3.0\n",
      "3      5.000         23        NaN   NaN\n",
      "   timestamp_x  max_val_x  max_val_y  Rank  timestamp_y  max_val\n",
      "0        1.002       18.0       33.0   1.0        1.000     33.0\n",
      "1        2.000       22.0       12.0   2.0        2.000     12.0\n",
      "2        3.000       77.0       87.0   3.0        3.001     87.0\n",
      "3        5.000       23.0        NaN   NaN          NaN      NaN\n",
      "4          NaN        NaN        NaN   4.0        4.000     54.0\n"
     ]
    }
   ],
   "source": [
    "print(df1)\n",
    "print(df2)\n",
    "print(new_df)\n",
    "print(new_df_b)"
   ]
  },
  {
   "cell_type": "code",
   "execution_count": 87,
   "metadata": {},
   "outputs": [],
   "source": [
    "new_df_b = pd.merge(new_df, df2, on = \"Rank\", how = \"outer\")\n",
    "new_df_c = new_df_b.assign(timestamp = lambda x: x.filter(like='timestamp').iloc[:,0])\n",
    "new_df_d = new_df_b.assign(timestamp = lambda x: x.filter(like='timestamp').iloc[:,1])"
   ]
  },
  {
   "cell_type": "code",
   "execution_count": 88,
   "metadata": {},
   "outputs": [
    {
     "name": "stdout",
     "output_type": "stream",
     "text": [
      "   timestamp_x  max_val_x  max_val_y  Rank  timestamp_y  max_val  timestamp\n",
      "0        1.002       18.0       33.0   1.0        1.000     33.0      1.002\n",
      "1        2.000       22.0       12.0   2.0        2.000     12.0      2.000\n",
      "2        3.000       77.0       87.0   3.0        3.001     87.0      3.000\n",
      "3        5.000       23.0        NaN   NaN          NaN      NaN      5.000\n",
      "4          NaN        NaN        NaN   4.0        4.000     54.0        NaN\n",
      "   timestamp_x  max_val_x  max_val_y  Rank  timestamp_y  max_val  timestamp\n",
      "0        1.002       18.0       33.0   1.0        1.000     33.0      1.000\n",
      "1        2.000       22.0       12.0   2.0        2.000     12.0      2.000\n",
      "2        3.000       77.0       87.0   3.0        3.001     87.0      3.001\n",
      "3        5.000       23.0        NaN   NaN          NaN      NaN        NaN\n",
      "4          NaN        NaN        NaN   4.0        4.000     54.0      4.000\n"
     ]
    }
   ],
   "source": [
    "print(new_df_c)\n",
    "print(new_df_d)"
   ]
  },
  {
   "cell_type": "code",
   "execution_count": 95,
   "metadata": {},
   "outputs": [
    {
     "data": {
      "text/html": [
       "<div>\n",
       "<style scoped>\n",
       "    .dataframe tbody tr th:only-of-type {\n",
       "        vertical-align: middle;\n",
       "    }\n",
       "\n",
       "    .dataframe tbody tr th {\n",
       "        vertical-align: top;\n",
       "    }\n",
       "\n",
       "    .dataframe thead th {\n",
       "        text-align: right;\n",
       "    }\n",
       "</style>\n",
       "<table border=\"1\" class=\"dataframe\">\n",
       "  <thead>\n",
       "    <tr style=\"text-align: right;\">\n",
       "      <th></th>\n",
       "      <th>timestamp_x</th>\n",
       "      <th>max_val_x</th>\n",
       "      <th>max_val_y</th>\n",
       "      <th>Rank</th>\n",
       "      <th>timestamp_y</th>\n",
       "      <th>max_val</th>\n",
       "    </tr>\n",
       "  </thead>\n",
       "  <tbody>\n",
       "    <tr>\n",
       "      <th>0</th>\n",
       "      <td>1.002</td>\n",
       "      <td>18.0</td>\n",
       "      <td>33.0</td>\n",
       "      <td>1.0</td>\n",
       "      <td>1.000</td>\n",
       "      <td>33.0</td>\n",
       "    </tr>\n",
       "    <tr>\n",
       "      <th>1</th>\n",
       "      <td>2.000</td>\n",
       "      <td>22.0</td>\n",
       "      <td>12.0</td>\n",
       "      <td>2.0</td>\n",
       "      <td>2.000</td>\n",
       "      <td>12.0</td>\n",
       "    </tr>\n",
       "    <tr>\n",
       "      <th>2</th>\n",
       "      <td>3.000</td>\n",
       "      <td>77.0</td>\n",
       "      <td>87.0</td>\n",
       "      <td>3.0</td>\n",
       "      <td>3.001</td>\n",
       "      <td>87.0</td>\n",
       "    </tr>\n",
       "    <tr>\n",
       "      <th>3</th>\n",
       "      <td>5.000</td>\n",
       "      <td>23.0</td>\n",
       "      <td>NaN</td>\n",
       "      <td>NaN</td>\n",
       "      <td>NaN</td>\n",
       "      <td>NaN</td>\n",
       "    </tr>\n",
       "    <tr>\n",
       "      <th>4</th>\n",
       "      <td>NaN</td>\n",
       "      <td>NaN</td>\n",
       "      <td>NaN</td>\n",
       "      <td>4.0</td>\n",
       "      <td>4.000</td>\n",
       "      <td>54.0</td>\n",
       "    </tr>\n",
       "  </tbody>\n",
       "</table>\n",
       "</div>"
      ],
      "text/plain": [
       "   timestamp_x  max_val_x  max_val_y  Rank  timestamp_y  max_val\n",
       "0        1.002       18.0       33.0   1.0        1.000     33.0\n",
       "1        2.000       22.0       12.0   2.0        2.000     12.0\n",
       "2        3.000       77.0       87.0   3.0        3.001     87.0\n",
       "3        5.000       23.0        NaN   NaN          NaN      NaN\n",
       "4          NaN        NaN        NaN   4.0        4.000     54.0"
      ]
     },
     "execution_count": 95,
     "metadata": {},
     "output_type": "execute_result"
    }
   ],
   "source": [
    "new_df_b"
   ]
  },
  {
   "cell_type": "code",
   "execution_count": 105,
   "metadata": {},
   "outputs": [
    {
     "data": {
      "text/html": [
       "<div>\n",
       "<style scoped>\n",
       "    .dataframe tbody tr th:only-of-type {\n",
       "        vertical-align: middle;\n",
       "    }\n",
       "\n",
       "    .dataframe tbody tr th {\n",
       "        vertical-align: top;\n",
       "    }\n",
       "\n",
       "    .dataframe thead th {\n",
       "        text-align: right;\n",
       "    }\n",
       "</style>\n",
       "<table border=\"1\" class=\"dataframe\">\n",
       "  <thead>\n",
       "    <tr style=\"text-align: right;\">\n",
       "      <th></th>\n",
       "      <th>timestamp_x</th>\n",
       "      <th>timestamp_y</th>\n",
       "    </tr>\n",
       "  </thead>\n",
       "  <tbody>\n",
       "    <tr>\n",
       "      <th>0</th>\n",
       "      <td>1.002</td>\n",
       "      <td>1.000</td>\n",
       "    </tr>\n",
       "    <tr>\n",
       "      <th>1</th>\n",
       "      <td>2.000</td>\n",
       "      <td>2.000</td>\n",
       "    </tr>\n",
       "    <tr>\n",
       "      <th>2</th>\n",
       "      <td>3.000</td>\n",
       "      <td>3.001</td>\n",
       "    </tr>\n",
       "    <tr>\n",
       "      <th>3</th>\n",
       "      <td>5.000</td>\n",
       "      <td>NaN</td>\n",
       "    </tr>\n",
       "    <tr>\n",
       "      <th>4</th>\n",
       "      <td>NaN</td>\n",
       "      <td>4.000</td>\n",
       "    </tr>\n",
       "  </tbody>\n",
       "</table>\n",
       "</div>"
      ],
      "text/plain": [
       "   timestamp_x  timestamp_y\n",
       "0        1.002        1.000\n",
       "1        2.000        2.000\n",
       "2        3.000        3.001\n",
       "3        5.000          NaN\n",
       "4          NaN        4.000"
      ]
     },
     "execution_count": 105,
     "metadata": {},
     "output_type": "execute_result"
    }
   ],
   "source": [
    "new_df_b.filter(like = \"timestamp\")"
   ]
  },
  {
   "cell_type": "code",
   "execution_count": 122,
   "metadata": {},
   "outputs": [
    {
     "data": {
      "text/html": [
       "<div>\n",
       "<style scoped>\n",
       "    .dataframe tbody tr th:only-of-type {\n",
       "        vertical-align: middle;\n",
       "    }\n",
       "\n",
       "    .dataframe tbody tr th {\n",
       "        vertical-align: top;\n",
       "    }\n",
       "\n",
       "    .dataframe thead th {\n",
       "        text-align: right;\n",
       "    }\n",
       "</style>\n",
       "<table border=\"1\" class=\"dataframe\">\n",
       "  <thead>\n",
       "    <tr style=\"text-align: right;\">\n",
       "      <th></th>\n",
       "      <th>timestamp_x</th>\n",
       "      <th>timestamp_y</th>\n",
       "    </tr>\n",
       "  </thead>\n",
       "  <tbody>\n",
       "    <tr>\n",
       "      <th>0</th>\n",
       "      <td>1.002</td>\n",
       "      <td>1.000</td>\n",
       "    </tr>\n",
       "    <tr>\n",
       "      <th>1</th>\n",
       "      <td>2.000</td>\n",
       "      <td>2.000</td>\n",
       "    </tr>\n",
       "    <tr>\n",
       "      <th>2</th>\n",
       "      <td>3.000</td>\n",
       "      <td>3.001</td>\n",
       "    </tr>\n",
       "    <tr>\n",
       "      <th>3</th>\n",
       "      <td>5.000</td>\n",
       "      <td>NaN</td>\n",
       "    </tr>\n",
       "    <tr>\n",
       "      <th>4</th>\n",
       "      <td>4.000</td>\n",
       "      <td>4.000</td>\n",
       "    </tr>\n",
       "  </tbody>\n",
       "</table>\n",
       "</div>"
      ],
      "text/plain": [
       "   timestamp_x  timestamp_y\n",
       "0        1.002        1.000\n",
       "1        2.000        2.000\n",
       "2        3.000        3.001\n",
       "3        5.000          NaN\n",
       "4        4.000        4.000"
      ]
     },
     "execution_count": 122,
     "metadata": {},
     "output_type": "execute_result"
    }
   ],
   "source": [
    "new_df_b.filter(like = \"timestamp\").bfill(axis = 1)"
   ]
  },
  {
   "cell_type": "code",
   "execution_count": null,
   "metadata": {},
   "outputs": [],
   "source": []
  }
 ],
 "metadata": {
  "kernelspec": {
   "display_name": "Python [conda env:data_wrangling]",
   "language": "python",
   "name": "conda-env-data_wrangling-py"
  },
  "language_info": {
   "codemirror_mode": {
    "name": "ipython",
    "version": 3
   },
   "file_extension": ".py",
   "mimetype": "text/x-python",
   "name": "python",
   "nbconvert_exporter": "python",
   "pygments_lexer": "ipython3",
   "version": "3.6.5"
  }
 },
 "nbformat": 4,
 "nbformat_minor": 2
}
