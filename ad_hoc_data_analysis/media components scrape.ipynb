{
 "cells": [
  {
   "cell_type": "markdown",
   "metadata": {},
   "source": [
    "### Need to convert CDCIM media components from .txt format to dataframe or excel. Used code to parse .txt file.\n",
    "\n",
    "12/10/2019\n",
    "\n",
    "This file can be deleted "
   ]
  },
  {
   "cell_type": "code",
   "execution_count": null,
   "metadata": {},
   "outputs": [],
   "source": [
    "ls"
   ]
  },
  {
   "cell_type": "code",
   "execution_count": 1,
   "metadata": {},
   "outputs": [
    {
     "name": "stdout",
     "output_type": "stream",
     "text": [
      "C:\\Users\\agilman\\Desktop\n"
     ]
    }
   ],
   "source": [
    "cd ~/Desktop"
   ]
  },
  {
   "cell_type": "code",
   "execution_count": 2,
   "metadata": {},
   "outputs": [
    {
     "name": "stdout",
     "output_type": "stream",
     "text": [
      " Volume in drive C has no label.\n",
      " Volume Serial Number is B00E-A2AB\n",
      "\n",
      " Directory of C:\\Users\\agilman\\Desktop\n",
      "\n",
      "12/09/2019  05:53 PM             3,050 CD-CIM1 008-5043 composition JM from Gold Standard.txt\n",
      "11/26/2019  09:39 AM            31,806 compiled_data.txt\n",
      "               2 File(s)         34,856 bytes\n",
      "               0 Dir(s)  163,349,831,680 bytes free\n"
     ]
    }
   ],
   "source": [
    "ls *.txt"
   ]
  },
  {
   "cell_type": "code",
   "execution_count": null,
   "metadata": {},
   "outputs": [],
   "source": []
  },
  {
   "cell_type": "code",
   "execution_count": 3,
   "metadata": {},
   "outputs": [],
   "source": [
    "f = open('CD-CIM1 008-5043 composition JM from Gold Standard.txt', 'r')\n",
    "x = f.readlines()\n",
    "f.close()"
   ]
  },
  {
   "cell_type": "code",
   "execution_count": 4,
   "metadata": {},
   "outputs": [],
   "source": [
    "L1 = x\n",
    "L2 = [\"\\n\", '\\x0c\\n']"
   ]
  },
  {
   "cell_type": "code",
   "execution_count": 5,
   "metadata": {},
   "outputs": [],
   "source": [
    "S2 = set(L2)"
   ]
  },
  {
   "cell_type": "code",
   "execution_count": 6,
   "metadata": {},
   "outputs": [],
   "source": [
    "L2 = [x for x in L1 if x not in S2]"
   ]
  },
  {
   "cell_type": "code",
   "execution_count": 7,
   "metadata": {},
   "outputs": [],
   "source": [
    "List_of_interest = L2[4:]"
   ]
  },
  {
   "cell_type": "code",
   "execution_count": 8,
   "metadata": {},
   "outputs": [
    {
     "data": {
      "text/plain": [
       "['2 HYDROXYPYRIDINE N OXID \\n',\n",
       " '0.00099 \\n',\n",
       " '2 MERCAPTOETHANOL (in mL)* D=1.1143gm/mL \\n',\n",
       " '0.000705642 \\n',\n",
       " 'ADENINE \\n',\n",
       " '0.00003 \\n',\n",
       " 'ALUMINUM CHLORIDE 6H2O \\n',\n",
       " '4.36985E-07 \\n',\n",
       " 'AMMONIUM MOLYBDATE 4H20 \\n',\n",
       " '3.77084E-06 \\n',\n",
       " 'ASCORBIC ACID 2 PHOS MG \\n',\n",
       " '0.01260968 \\n',\n",
       " 'BARIUM ACETATE \\n',\n",
       " '9.67188E-07 \\n',\n",
       " 'BETA NA GLYCEROPHOSPHATE \\n',\n",
       " '0.22618388 \\n',\n",
       " 'BIOTIN \\n',\n",
       " '0.00104988 \\n',\n",
       " 'CADMIUM CHLORIDE 2.5 H2O \\n',\n",
       " '1.57733E-05 \\n',\n",
       " 'CALCIUM NITRATE 4H2O \\n',\n",
       " '0.05722875 \\n',\n",
       " 'CHOLINE CHLORIDE \\n',\n",
       " '0.0648125 \\n',\n",
       " 'CHROMIUM CHLORIDE 6H2O \\n',\n",
       " '2.11513E-07 \\n',\n",
       " 'CITRIC ACID ANHYD \\n',\n",
       " '0.001725 \\n',\n",
       " 'COBALT CHLORIDE 6H2O \\n',\n",
       " '3.47074E-06 \\n',\n",
       " 'CUPRIC SULFATE 5H2O \\n',\n",
       " '1.67818E-05 \\n',\n",
       " 'D GLUCOSE (DEXTROSE) \\n',\n",
       " '5.01327798 \\n',\n",
       " 'D-CALCIUM PANTOTHENATE \\n',\n",
       " '0.0026356 \\n',\n",
       " 'DEXTRAN SULFATE 0.05 \\n',\n",
       " 'DL LIPOIC ACID THIOCTIC \\n',\n",
       " '0.000751 \\n',\n",
       " 'DL TOCOPHEROL ACETATE \\n',\n",
       " '0.00001125 \\n',\n",
       " 'EDTA DISODIUM 2H2O \\n',\n",
       " '0.00246665 \\n',\n",
       " 'ETHANOLAMINE HCL \\n',\n",
       " '0.00930641 \\n',\n",
       " 'FAD DISODIUM DIHYDRATE \\n',\n",
       " '1.50845E-06 \\n',\n",
       " 'FE CHLOR NA CITRATE COMP \\n',\n",
       " '0.14418 \\n',\n",
       " 'FERRIC NITRATE 9H2O \\n',\n",
       " '0.00257393 \\n',\n",
       " 'FOLIC ACID \\n',\n",
       " '0.0073825 \\n',\n",
       " 'GERMANIUM DIOXIDE \\n',\n",
       " '1.98908E-07 \\n',\n",
       " 'GLUTATHIONE REDUCED \\n',\n",
       " '0.00122838 \\n',\n",
       " 'GLYCINE \\n',\n",
       " '0.0056125 \\n',\n",
       " 'HEPES LOW ENDOTOXIN \\n',\n",
       " '0.4917 \\n',\n",
       " 'I-INOSITOL \\n',\n",
       " '0.07525038 \\n',\n",
       " 'L ALANINE \\n',\n",
       " '0.073975 \\n',\n",
       " 'L ALPHA DILINEOYL PHOS (in mL)* \\n',\n",
       " '0.0000015 \\n',\n",
       " 'L ALPHA DISTEAROYL LECITHIN \\n',\n",
       " '0.0000375 \\n',\n",
       " 'L ARGININE HCL \\n',\n",
       " '0.4195425 \\n',\n",
       " 'L ASPARAGINE H2O \\n',\n",
       " '0.42239463 \\n',\n",
       " 'L CYSTEINE HCL H2O \\n',\n",
       " '0.0733 \\n',\n",
       " 'L CYSTINE 2HCL \\n',\n",
       " '0.07130025 \\n',\n",
       " 'L HISTIDINE HCL H2O \\n',\n",
       " '0.15214679 \\n',\n",
       " 'L LEUCINE \\n',\n",
       " '0.47006669 \\n',\n",
       " 'L METHIONINE \\n',\n",
       " '0.1315881 \\n',\n",
       " 'L ORNITHINE HCL \\n',\n",
       " '0.00075 \\n',\n",
       " 'L TYROSINE DISODIUM SALT \\n',\n",
       " '0.21108709 \\n',\n",
       " 'L-ASPARTIC ACID \\n',\n",
       " '0.1151977 \\n',\n",
       " 'L-CITRULLINE \\n',\n",
       " '0.000375 \\n',\n",
       " 'L-GLUTAMIC ACID \\n',\n",
       " '0.16417335 \\n',\n",
       " 'L-HYDROXYPROLINE \\n',\n",
       " '0.0636527 \\n',\n",
       " 'LINOLEIC ACID \\n',\n",
       " '0.0000162 \\n',\n",
       " 'L-ISOLEUCINE \\n',\n",
       " '0.37690494 \\n',\n",
       " 'LITHIUM CHLORIDE \\n',\n",
       " '7.54165E-07 \\n',\n",
       " 'L-LYSINE HCL \\n',\n",
       " '0.40362169 \\n',\n",
       " 'L-PHENYLALANINE \\n',\n",
       " '0.17532985 \\n',\n",
       " 'L-PROLINE \\n',\n",
       " '0.31336019 \\n',\n",
       " 'L-SERINE \\n',\n",
       " '0.34356169 \\n',\n",
       " 'L-THREONINE \\n',\n",
       " '0.25460244 \\n',\n",
       " 'L-TRYPTOPHAN \\n',\n",
       " '0.13485282 \\n',\n",
       " 'L-VALINE \\n',\n",
       " '0.33258994 \\n',\n",
       " 'MAGNESIUM SULFATE ANHYD \\n',\n",
       " '0.08820209 \\n',\n",
       " 'MANGANOUS SULFATE H2O \\n',\n",
       " '1.3806E-07 \\n',\n",
       " 'MILLED PLURONIC \\n',\n",
       " '1.15115151 \\n',\n",
       " 'MONOTHIOGLYCEROL \\n',\n",
       " '0.009637 \\n',\n",
       " 'MOPS \\n',\n",
       " '0.4705 \\n',\n",
       " 'NIACINAMIDE \\n',\n",
       " '0.01322625 \\n',\n",
       " 'NICKELOUS SULFATE 6H2O \\n',\n",
       " '1.05074E-07 \\n',\n",
       " 'OXALACETIC ACID \\n',\n",
       " '0.000375 \\n',\n",
       " 'PARA AMINO BENZOIC ACID \\n',\n",
       " '0.00122838 \\n',\n",
       " 'POLYSORBATE 80 \\n',\n",
       " '0.000015 \\n',\n",
       " 'POTASSIUM BROMIDE \\n',\n",
       " '4.2457E-08 \\n',\n",
       " 'POTASSIUM CHLORIDE \\n',\n",
       " '0.47835329 \\n',\n",
       " 'POTASSIUM IODIDE \\n',\n",
       " '5.5184E-08 \\n',\n",
       " 'PUTRESCINE 2HCL \\n',\n",
       " '0.00035119 \\n',\n",
       " 'PYRIDOXINE HCL \\n',\n",
       " '0.00406145 \\n',\n",
       " 'RIBOFLAVIN \\n',\n",
       " '0.000451 \\n',\n",
       " 'RUBIDIUM CHLORIDE RBCL \\n',\n",
       " '4.22584E-07 \\n',\n",
       " 'SILVER NITRATE \\n',\n",
       " '5.32922E-08 \\n',\n",
       " 'SODIUM CHLORIDE \\n',\n",
       " '3.4 \\n',\n",
       " 'SODIUM FLUORIDE \\n',\n",
       " '1.50941E-06 \\n',\n",
       " 'SODIUM META VANADATE \\n',\n",
       " '5.8071E-07 \\n',\n",
       " 'SODIUM METASILICATE 9H20 \\n',\n",
       " '0.00027339 \\n',\n",
       " 'SODIUM PHOS DIBASIC ANHY \\n',\n",
       " '0.64191579 \\n',\n",
       " 'SODIUM PHOS MONOBASIC \\n',\n",
       " '0.210125 \\n',\n",
       " 'SODIUM PYRUVATE \\n',\n",
       " '0.14564625 \\n',\n",
       " 'SODIUM SELENITE \\n',\n",
       " '1.42954E-05 \\n',\n",
       " 'SPERMINE 4HCL \\n',\n",
       " '0.0071941 \\n',\n",
       " 'STANNOUS CHLORIDE 2H2O \\n',\n",
       " '8.75808E-08 \\n',\n",
       " 'TAURINE \\n',\n",
       " '0.00225 \\n',\n",
       " 'THIAMINE HCL \\n',\n",
       " '0.0030975 \\n',\n",
       " 'TITANIUM TETRACHLORIDE (in mL)* \\n',\n",
       " '2.41628E-07 \\n',\n",
       " 'VITAMIN B-12 \\n',\n",
       " '0.00411 \\n',\n",
       " 'ZINC SULFATE 7H2O \\n',\n",
       " '0.00148695 \\n',\n",
       " 'ZIRCONYL CHLORIDE 8H2O \\n',\n",
       " '9.66696E-07 \\n']"
      ]
     },
     "execution_count": 8,
     "metadata": {},
     "output_type": "execute_result"
    }
   ],
   "source": [
    "List_of_interest"
   ]
  },
  {
   "cell_type": "code",
   "execution_count": 9,
   "metadata": {},
   "outputs": [
    {
     "data": {
      "text/plain": [
       "['CUPRIC SULFATE 5H2O \\n',\n",
       " '1.67818E-05 \\n',\n",
       " 'D GLUCOSE (DEXTROSE) \\n',\n",
       " '5.01327798 \\n',\n",
       " 'D-CALCIUM PANTOTHENATE \\n',\n",
       " '0.0026356 \\n',\n",
       " 'DEXTRAN SULFATE \\n',\n",
       " '0.05 \\n',\n",
       " 'DL LIPOIC ACID THIOCTIC \\n',\n",
       " '0.000751 \\n']"
      ]
     },
     "execution_count": 9,
     "metadata": {},
     "output_type": "execute_result"
    }
   ],
   "source": [
    "List_of_interest[36] = 'DEXTRAN SULFATE \\n'\n",
    "List_of_interest[37:37] = [\"0.05 \\n\"]\n",
    "\n",
    "List_of_interest.index('DEXTRAN SULFATE \\n')\n",
    "List_of_interest[30:40]"
   ]
  },
  {
   "cell_type": "code",
   "execution_count": 10,
   "metadata": {},
   "outputs": [],
   "source": [
    "value = List_of_interest[1::2]"
   ]
  },
  {
   "cell_type": "code",
   "execution_count": 11,
   "metadata": {},
   "outputs": [],
   "source": [
    "names = List_of_interest[0::2]"
   ]
  },
  {
   "cell_type": "code",
   "execution_count": 14,
   "metadata": {},
   "outputs": [
    {
     "data": {
      "text/plain": [
       "['1.67818E-05 \\n', '5.01327798 \\n', '0.0026356 \\n', '0.05 \\n', '0.000751 \\n']"
      ]
     },
     "execution_count": 14,
     "metadata": {},
     "output_type": "execute_result"
    }
   ],
   "source": [
    "value[15:20]"
   ]
  },
  {
   "cell_type": "code",
   "execution_count": 15,
   "metadata": {},
   "outputs": [
    {
     "name": "stdout",
     "output_type": "stream",
     "text": [
      "92\n",
      "92\n"
     ]
    }
   ],
   "source": [
    "print(len(names))\n",
    "print(len(value))"
   ]
  },
  {
   "cell_type": "code",
   "execution_count": 17,
   "metadata": {},
   "outputs": [],
   "source": [
    "import pandas as pd"
   ]
  },
  {
   "cell_type": "code",
   "execution_count": 18,
   "metadata": {},
   "outputs": [],
   "source": [
    "s_names = pd.Series(names)\n",
    "s_value = pd.Series(value)"
   ]
  },
  {
   "cell_type": "code",
   "execution_count": null,
   "metadata": {},
   "outputs": [],
   "source": [
    "s_names"
   ]
  },
  {
   "cell_type": "code",
   "execution_count": 19,
   "metadata": {},
   "outputs": [],
   "source": [
    "s_names = s_names.str.slice(0,-2)"
   ]
  },
  {
   "cell_type": "code",
   "execution_count": 20,
   "metadata": {},
   "outputs": [],
   "source": [
    "s_value = s_value.str.slice(0,-2)"
   ]
  },
  {
   "cell_type": "code",
   "execution_count": 21,
   "metadata": {},
   "outputs": [],
   "source": [
    "s_value = pd.to_numeric(s_value)"
   ]
  },
  {
   "cell_type": "code",
   "execution_count": 22,
   "metadata": {},
   "outputs": [],
   "source": [
    "df = pd.concat([s_names, s_value], axis = 1)"
   ]
  },
  {
   "cell_type": "code",
   "execution_count": 23,
   "metadata": {},
   "outputs": [],
   "source": [
    "df.rename(columns = {0:\"Compound Name\", 1:\"Concentration g/L\"}, inplace = True)"
   ]
  },
  {
   "cell_type": "code",
   "execution_count": 24,
   "metadata": {},
   "outputs": [],
   "source": [
    "df.to_csv(\"CDCIM.csv\", index = False)"
   ]
  },
  {
   "cell_type": "code",
   "execution_count": null,
   "metadata": {},
   "outputs": [],
   "source": []
  },
  {
   "cell_type": "code",
   "execution_count": null,
   "metadata": {},
   "outputs": [],
   "source": []
  },
  {
   "cell_type": "code",
   "execution_count": null,
   "metadata": {},
   "outputs": [],
   "source": [
    "type(s_value)"
   ]
  },
  {
   "cell_type": "code",
   "execution_count": null,
   "metadata": {},
   "outputs": [],
   "source": [
    "min(s_value)"
   ]
  },
  {
   "cell_type": "code",
   "execution_count": null,
   "metadata": {},
   "outputs": [],
   "source": []
  },
  {
   "cell_type": "code",
   "execution_count": null,
   "metadata": {},
   "outputs": [],
   "source": []
  },
  {
   "cell_type": "code",
   "execution_count": null,
   "metadata": {
    "scrolled": false
   },
   "outputs": [],
   "source": [
    "for i in x:\n",
    "    if i == \"\\n\":\n",
    "        print(x.index(i))\n",
    "        print(\"space\")"
   ]
  },
  {
   "cell_type": "code",
   "execution_count": null,
   "metadata": {},
   "outputs": [],
   "source": [
    "for i in x:\n",
    "    if i == \"\\n\":\n",
    "        print(\"space\")"
   ]
  },
  {
   "cell_type": "code",
   "execution_count": null,
   "metadata": {},
   "outputs": [],
   "source": [
    "x"
   ]
  },
  {
   "cell_type": "code",
   "execution_count": null,
   "metadata": {},
   "outputs": [],
   "source": [
    "b = [\"\\n\"]"
   ]
  },
  {
   "cell_type": "code",
   "execution_count": null,
   "metadata": {},
   "outputs": [],
   "source": [
    "L1 = x.copy()"
   ]
  },
  {
   "cell_type": "code",
   "execution_count": null,
   "metadata": {},
   "outputs": [],
   "source": [
    "L2 = [\"\\n\"]"
   ]
  },
  {
   "cell_type": "code",
   "execution_count": null,
   "metadata": {},
   "outputs": [],
   "source": [
    "S1 = set(L1)\n",
    "S2 = set(L2)"
   ]
  },
  {
   "cell_type": "code",
   "execution_count": null,
   "metadata": {},
   "outputs": [],
   "source": [
    "S1 - S2"
   ]
  },
  {
   "cell_type": "code",
   "execution_count": null,
   "metadata": {},
   "outputs": [],
   "source": []
  }
 ],
 "metadata": {
  "kernelspec": {
   "display_name": "Python [conda env:data_wrangling]",
   "language": "python",
   "name": "conda-env-data_wrangling-py"
  },
  "language_info": {
   "codemirror_mode": {
    "name": "ipython",
    "version": 3
   },
   "file_extension": ".py",
   "mimetype": "text/x-python",
   "name": "python",
   "nbconvert_exporter": "python",
   "pygments_lexer": "ipython3",
   "version": "3.6.5"
  }
 },
 "nbformat": 4,
 "nbformat_minor": 2
}
